{
 "cells": [
  {
   "cell_type": "code",
   "execution_count": 5,
   "metadata": {},
   "outputs": [
    {
     "name": "stdout",
     "output_type": "stream",
     "text": [
      "['puto', 'imbecil', 'mierda']\n"
     ]
    }
   ],
   "source": [
    "a=[\"puto\",\"imbecil\",\"mierda\"]\n",
    "\n",
    "print(a[0:3])"
   ]
  },
  {
   "cell_type": "code",
   "execution_count": 8,
   "metadata": {},
   "outputs": [
    {
     "name": "stdout",
     "output_type": "stream",
     "text": [
      "puto\n",
      "imbecil\n",
      "mierda\n",
      "['puto', 'imbecil', 'mierda']\n",
      "['puto', 'imbecil', 'mierda']\n",
      "['puto', 'imbecil', 'mierda']\n"
     ]
    }
   ],
   "source": [
    "lista=[\"puto\",\"imbecil\",\"mierda\"]\n",
    "\n",
    "for element in lista:\n",
    "    print(element)\n",
    "\n",
    "for element in lista:\n",
    "    print(lista)    "
   ]
  },
  {
   "cell_type": "code",
   "execution_count": 11,
   "metadata": {},
   "outputs": [
    {
     "name": "stdout",
     "output_type": "stream",
     "text": [
      "[1, 2, 3, 4]\n"
     ]
    }
   ],
   "source": [
    "c=list(range(1,5))\n",
    "print(c)"
   ]
  },
  {
   "cell_type": "code",
   "execution_count": 18,
   "metadata": {},
   "outputs": [
    {
     "name": "stdout",
     "output_type": "stream",
     "text": [
      "18\n"
     ]
    }
   ],
   "source": [
    "# programa que solo sume los numeros positivos\n",
    "\n",
    "list = [1,2,3,2,-4,6,-1,-2,4,-100]\n",
    "\n",
    "total = 0 \n",
    "\n",
    "for a in list:\n",
    "    if a < 0:\n",
    "        continue\n",
    "    total+=a\n",
    "\n",
    "print(total)"
   ]
  },
  {
   "cell_type": "code",
   "execution_count": 63,
   "metadata": {},
   "outputs": [
    {
     "name": "stdout",
     "output_type": "stream",
     "text": [
      "300 -800\n"
     ]
    }
   ],
   "source": [
    "# programa que muestra el numero mas alto y bajo\n",
    "\n",
    "list = [1,2,3,2,-4,6,-1,-2,4,-800,300]\n",
    "\n",
    "Alto = 0\n",
    "Menor = 0 \n",
    "\n",
    "for a in list:\n",
    "    if a > Alto:\n",
    "        Alto = a\n",
    "\n",
    "for b in list:\n",
    "    if b < Alto:\n",
    "        Menor = b\n",
    "    \n",
    "\n",
    "print(Alto,Menor)"
   ]
  },
  {
   "cell_type": "code",
   "execution_count": 6,
   "metadata": {},
   "outputs": [
    {
     "data": {
      "text/plain": [
       "False"
      ]
     },
     "execution_count": 6,
     "metadata": {},
     "output_type": "execute_result"
    }
   ],
   "source": [
    "#weekday -> TRUE si es un dia laborable\n",
    "\n",
    "#Sleep-> si es fin de semana o si estamos de Vacaciones (Devolver true si dormimos)\n",
    "\n",
    "#vacation -> TRUE si son vacaciones\n",
    "\n",
    "def sleep_in(weekday, vacation):\n",
    "  if not weekday or vacation:\n",
    "    return True\n",
    "  else:\n",
    "    return False\n",
    "\n",
    "\n",
    "sleep_in(True, False)"
   ]
  },
  {
   "cell_type": "code",
   "execution_count": null,
   "metadata": {},
   "outputs": [],
   "source": [
    "def monkey_trouble(a_smile, b_smile):\n",
    "  if a_smile and b_smile:\n",
    "    return True\n",
    "  if not a_smile and not b_smile:\n",
    "    return True\n",
    "  return False"
   ]
  },
  {
   "cell_type": "markdown",
   "metadata": {},
   "source": [
    "#Dada una cadena, devuelva una versión sin el primer y último carácter, por lo que \"Hello\" produce \"ell\". La longitud de la cadena será de al menos 2."
   ]
  },
  {
   "cell_type": "code",
   "execution_count": 2,
   "metadata": {},
   "outputs": [
    {
     "data": {
      "text/plain": [
       "'ell'"
      ]
     },
     "execution_count": 2,
     "metadata": {},
     "output_type": "execute_result"
    }
   ],
   "source": [
    "\n",
    "def without_end(str):\n",
    "    a = list(str)\n",
    "    a.pop(0) and a.pop()\n",
    "    return \"\".join(a)\n",
    "   \n",
    "    \n",
    "\n",
    "without_end(\"hello\")    \n",
    "    \n",
    "    \n",
    "       \n",
    "       "
   ]
  },
  {
   "cell_type": "code",
   "execution_count": null,
   "metadata": {},
   "outputs": [
    {
     "ename": "",
     "evalue": "",
     "output_type": "error",
     "traceback": [
      "\u001b[1;31mCanceled future for execute_request message before replies were done"
     ]
    },
    {
     "ename": "",
     "evalue": "",
     "output_type": "error",
     "traceback": [
      "\u001b[1;31mThe Kernel crashed while executing code in the the current cell or a previous cell. Please review the code in the cell(s) to identify a possible cause of the failure. Click <a href='https://aka.ms/vscodeJupyterKernelCrash'>here</a> for more info. View Jupyter <a href='command:jupyter.viewOutput'>log</a> for further details."
     ]
    }
   ],
   "source": [
    "#Dadas 2 cuerdas, a y b, devuelva una cadena de la forma short+long+short, con la cuerda más corta en el exterior y la cuerda más larga en el interior. Las cuerdas no tendrán la misma longitud, pero pueden estar vacías (longitud 0).\n",
    "\n",
    "#combo_string('Hola', 'hola') → 'hiHellohi'combo_string\n",
    "#('hola', 'Hola') → 'hiHellohi'combo_string\n",
    "#('aaa', 'b') → 'baaab'\n",
    "\n",
    "def combo_string(a,b):\n",
    "    if len(a) > len(b):\n",
    "        return combo_string(a,b)\n",
    "    return a + b + a  \n",
    "\n",
    "print(combo_string(\"aaa\",\"b\"))      "
   ]
  }
 ],
 "metadata": {
  "kernelspec": {
   "display_name": "Python 3.10.5 64-bit",
   "language": "python",
   "name": "python3"
  },
  "language_info": {
   "codemirror_mode": {
    "name": "ipython",
    "version": 3
   },
   "file_extension": ".py",
   "mimetype": "text/x-python",
   "name": "python",
   "nbconvert_exporter": "python",
   "pygments_lexer": "ipython3",
   "version": "3.10.5"
  },
  "orig_nbformat": 4,
  "vscode": {
   "interpreter": {
    "hash": "79e2c953b88fc71b6c3c1dbda58af322da5a9c58bab14d6cfec9d635fb737f03"
   }
  }
 },
 "nbformat": 4,
 "nbformat_minor": 2
}
